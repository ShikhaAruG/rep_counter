{
 "cells": [
  {
   "cell_type": "code",
   "execution_count": 3,
   "id": "9de92c6f-15de-4648-9bf1-f9ae38f96dbc",
   "metadata": {
    "scrolled": true
   },
   "outputs": [
    {
     "name": "stdout",
     "output_type": "stream",
     "text": [
      "Defaulting to user installation because normal site-packages is not writeable\n",
      "Requirement already satisfied: opencv-python in c:\\users\\shikha gupta\\appdata\\roaming\\python\\python312\\site-packages (4.12.0.88)\n",
      "Requirement already satisfied: mediapipe in c:\\users\\shikha gupta\\appdata\\roaming\\python\\python312\\site-packages (0.10.14)\n",
      "Requirement already satisfied: numpy in c:\\users\\shikha gupta\\appdata\\roaming\\python\\python312\\site-packages (2.0.0)\n",
      "Requirement already satisfied: matplotlib in c:\\users\\shikha gupta\\appdata\\roaming\\python\\python312\\site-packages (3.9.0)\n",
      "Requirement already satisfied: absl-py in c:\\users\\shikha gupta\\appdata\\roaming\\python\\python312\\site-packages (from mediapipe) (2.3.1)\n",
      "Requirement already satisfied: attrs>=19.1.0 in c:\\users\\shikha gupta\\appdata\\roaming\\python\\python312\\site-packages (from mediapipe) (25.3.0)\n",
      "Requirement already satisfied: flatbuffers>=2.0 in c:\\users\\shikha gupta\\appdata\\roaming\\python\\python312\\site-packages (from mediapipe) (25.2.10)\n",
      "Requirement already satisfied: jax in c:\\users\\shikha gupta\\appdata\\roaming\\python\\python312\\site-packages (from mediapipe) (0.7.1)\n",
      "Requirement already satisfied: jaxlib in c:\\users\\shikha gupta\\appdata\\roaming\\python\\python312\\site-packages (from mediapipe) (0.7.1)\n",
      "Requirement already satisfied: opencv-contrib-python in c:\\users\\shikha gupta\\appdata\\roaming\\python\\python312\\site-packages (from mediapipe) (4.12.0.88)\n",
      "Requirement already satisfied: protobuf<5,>=4.25.3 in c:\\users\\shikha gupta\\appdata\\roaming\\python\\python312\\site-packages (from mediapipe) (4.25.8)\n",
      "Requirement already satisfied: sounddevice>=0.4.4 in c:\\users\\shikha gupta\\appdata\\roaming\\python\\python312\\site-packages (from mediapipe) (0.5.2)\n",
      "Requirement already satisfied: contourpy>=1.0.1 in c:\\users\\shikha gupta\\appdata\\roaming\\python\\python312\\site-packages (from matplotlib) (1.2.1)\n",
      "Requirement already satisfied: cycler>=0.10 in c:\\users\\shikha gupta\\appdata\\roaming\\python\\python312\\site-packages (from matplotlib) (0.12.1)\n",
      "Requirement already satisfied: fonttools>=4.22.0 in c:\\users\\shikha gupta\\appdata\\roaming\\python\\python312\\site-packages (from matplotlib) (4.53.0)\n",
      "Requirement already satisfied: kiwisolver>=1.3.1 in c:\\users\\shikha gupta\\appdata\\roaming\\python\\python312\\site-packages (from matplotlib) (1.4.5)\n",
      "Requirement already satisfied: packaging>=20.0 in c:\\users\\shikha gupta\\appdata\\roaming\\python\\python312\\site-packages (from matplotlib) (24.1)\n",
      "Requirement already satisfied: pillow>=8 in c:\\users\\shikha gupta\\appdata\\roaming\\python\\python312\\site-packages (from matplotlib) (10.3.0)\n",
      "Requirement already satisfied: pyparsing>=2.3.1 in c:\\users\\shikha gupta\\appdata\\roaming\\python\\python312\\site-packages (from matplotlib) (3.1.2)\n",
      "Requirement already satisfied: python-dateutil>=2.7 in c:\\users\\shikha gupta\\appdata\\roaming\\python\\python312\\site-packages (from matplotlib) (2.9.0.post0)\n",
      "Requirement already satisfied: six>=1.5 in c:\\users\\shikha gupta\\appdata\\roaming\\python\\python312\\site-packages (from python-dateutil>=2.7->matplotlib) (1.16.0)\n",
      "Requirement already satisfied: CFFI>=1.0 in c:\\users\\shikha gupta\\appdata\\roaming\\python\\python312\\site-packages (from sounddevice>=0.4.4->mediapipe) (1.17.1)\n",
      "Requirement already satisfied: pycparser in c:\\users\\shikha gupta\\appdata\\roaming\\python\\python312\\site-packages (from CFFI>=1.0->sounddevice>=0.4.4->mediapipe) (2.22)\n",
      "Requirement already satisfied: ml_dtypes>=0.5.0 in c:\\users\\shikha gupta\\appdata\\roaming\\python\\python312\\site-packages (from jax->mediapipe) (0.5.3)\n",
      "Requirement already satisfied: opt_einsum in c:\\users\\shikha gupta\\appdata\\roaming\\python\\python312\\site-packages (from jax->mediapipe) (3.4.0)\n",
      "Requirement already satisfied: scipy>=1.12 in c:\\users\\shikha gupta\\appdata\\roaming\\python\\python312\\site-packages (from jax->mediapipe) (1.16.1)\n"
     ]
    }
   ],
   "source": [
    "!pip install opencv-python mediapipe numpy matplotlib"
   ]
  },
  {
   "cell_type": "code",
   "execution_count": 3,
   "id": "5d88346f-a4c3-4fa1-9cd3-a5de454efb7f",
   "metadata": {},
   "outputs": [],
   "source": [
    "import cv2\n",
    "import mediapipe as mp\n",
    "import numpy as np\n",
    "mp_drawing = mp.solutions.drawing_utils\n",
    "mp_pose = mp.solutions.pose"
   ]
  },
  {
   "cell_type": "code",
   "execution_count": null,
   "id": "723ef8c2-3b80-42c0-8bc4-39b069eb496d",
   "metadata": {
    "scrolled": true
   },
   "outputs": [],
   "source": [
    "cap = cv2.VideoCapture(0)\n",
    "## Setup mediapipe instance\n",
    "with mp_pose.Pose(min_detection_confidence=0.5, min_tracking_confidence=0.5) as pose:\n",
    "    while cap.isOpened():\n",
    "        ret, frame = cap.read()\n",
    "        \n",
    "        # Recolor image to RGB\n",
    "        image = cv2.cvtColor(frame, cv2.COLOR_BGR2RGB)\n",
    "        image.flags.writeable = False\n",
    "      \n",
    "        # Make detection\n",
    "        results = pose.process(image)\n",
    "    \n",
    "        # Recolor back to BGR\n",
    "        image.flags.writeable = True\n",
    "        image = cv2.cvtColor(image, cv2.COLOR_RGB2BGR)\n",
    "        \n",
    "        # Extract landmarks\n",
    "        try:\n",
    "            landmarks = results.pose_landmarks.landmark\n",
    "            print(landmarks)\n",
    "        except:\n",
    "            pass\n",
    "        \n",
    "        \n",
    "        # Render detections\n",
    "        mp_drawing.draw_landmarks(image, results.pose_landmarks, mp_pose.POSE_CONNECTIONS,\n",
    "                                mp_drawing.DrawingSpec(color=(245,117,66), thickness=2, circle_radius=2), \n",
    "                                mp_drawing.DrawingSpec(color=(245,66,230), thickness=2, circle_radius=2) \n",
    "                                 )               \n",
    "        \n",
    "        cv2.imshow('Mediapipe Feed', image)\n",
    "\n",
    "        if cv2.waitKey(10) & 0xFF == ord('q'):\n",
    "            break\n",
    "\n",
    "    cap.release()\n",
    "    cv2.destroyAllWindows()"
   ]
  },
  {
   "cell_type": "code",
   "execution_count": 23,
   "id": "facc65d9-08d6-4b86-b735-c73b331be672",
   "metadata": {
    "scrolled": true
   },
   "outputs": [
    {
     "data": {
      "text/plain": [
       "[x: 0.575552702\n",
       "y: 0.262530506\n",
       "z: -1.33629084\n",
       "visibility: 0.999710798\n",
       ", x: 0.601529\n",
       "y: 0.208997458\n",
       "z: -1.27932668\n",
       "visibility: 0.999363542\n",
       ", x: 0.618989468\n",
       "y: 0.207525507\n",
       "z: -1.27943265\n",
       "visibility: 0.999312699\n",
       ", x: 0.634561181\n",
       "y: 0.206715614\n",
       "z: -1.27964377\n",
       "visibility: 0.99936229\n",
       ", x: 0.539018631\n",
       "y: 0.212807477\n",
       "z: -1.29035568\n",
       "visibility: 0.99947536\n",
       ", x: 0.516689658\n",
       "y: 0.215844\n",
       "z: -1.29026663\n",
       "visibility: 0.999439359\n",
       ", x: 0.49878183\n",
       "y: 0.219019607\n",
       "z: -1.2908839\n",
       "visibility: 0.999476373\n",
       ", x: 0.660991788\n",
       "y: 0.240484729\n",
       "z: -0.861019731\n",
       "visibility: 0.999482393\n",
       ", x: 0.474773586\n",
       "y: 0.262215018\n",
       "z: -0.890741\n",
       "visibility: 0.999601185\n",
       ", x: 0.61085844\n",
       "y: 0.331855\n",
       "z: -1.17474151\n",
       "visibility: 0.999818861\n",
       ", x: 0.540173173\n",
       "y: 0.336473137\n",
       "z: -1.18382716\n",
       "visibility: 0.999856651\n",
       ", x: 0.823646903\n",
       "y: 0.589324057\n",
       "z: -0.581907451\n",
       "visibility: 0.999196649\n",
       ", x: 0.337946594\n",
       "y: 0.57181108\n",
       "z: -0.621917844\n",
       "visibility: 0.999224\n",
       ", x: 0.975214183\n",
       "y: 0.933045\n",
       "z: -0.601204455\n",
       "visibility: 0.796071529\n",
       ", x: 0.165712029\n",
       "y: 0.929089\n",
       "z: -0.629788101\n",
       "visibility: 0.760075808\n",
       ", x: 1.02941298\n",
       "y: 1.30846226\n",
       "z: -1.00210083\n",
       "visibility: 0.168438777\n",
       ", x: 0.0115881534\n",
       "y: 1.19933701\n",
       "z: -1.17435908\n",
       "visibility: 0.185022652\n",
       ", x: 1.05227494\n",
       "y: 1.42709017\n",
       "z: -1.10125232\n",
       "visibility: 0.119425\n",
       ", x: -0.0427928194\n",
       "y: 1.27228081\n",
       "z: -1.29246068\n",
       "visibility: 0.14489758\n",
       ", x: 0.99678266\n",
       "y: 1.4261862\n",
       "z: -1.17833877\n",
       "visibility: 0.175790414\n",
       ", x: -0.0148687344\n",
       "y: 1.26577592\n",
       "z: -1.40536237\n",
       "visibility: 0.200537011\n",
       ", x: 0.97822237\n",
       "y: 1.38501406\n",
       "z: -1.04940093\n",
       "visibility: 0.190172359\n",
       ", x: 0.0128884483\n",
       "y: 1.24368465\n",
       "z: -1.24018359\n",
       "visibility: 0.220391706\n",
       ", x: 0.729350626\n",
       "y: 1.37632823\n",
       "z: -0.0375174694\n",
       "visibility: 0.0514841303\n",
       ", x: 0.414775223\n",
       "y: 1.39036322\n",
       "z: 0.0428302325\n",
       "visibility: 0.055937\n",
       ", x: 0.734985232\n",
       "y: 2.00591493\n",
       "z: 0.106761396\n",
       "visibility: 0.0122613972\n",
       ", x: 0.413844585\n",
       "y: 2.01505566\n",
       "z: 0.0469253287\n",
       "visibility: 0.00991839077\n",
       ", x: 0.727107048\n",
       "y: 2.55472684\n",
       "z: 0.814733326\n",
       "visibility: 0.00156767445\n",
       ", x: 0.408311665\n",
       "y: 2.56463933\n",
       "z: 0.579847634\n",
       "visibility: 0.00219290564\n",
       ", x: 0.735429883\n",
       "y: 2.65223098\n",
       "z: 0.854471326\n",
       "visibility: 0.00140872027\n",
       ", x: 0.408779442\n",
       "y: 2.66508937\n",
       "z: 0.612168849\n",
       "visibility: 0.00339043769\n",
       ", x: 0.672759831\n",
       "y: 2.75540042\n",
       "z: 0.279218137\n",
       "visibility: 0.00124451797\n",
       ", x: 0.45111385\n",
       "y: 2.75932717\n",
       "z: -0.0513824\n",
       "visibility: 0.00182861846\n",
       "]"
      ]
     },
     "execution_count": 23,
     "metadata": {},
     "output_type": "execute_result"
    }
   ],
   "source": [
    "landmarks"
   ]
  },
  {
   "cell_type": "code",
   "execution_count": 26,
   "id": "9aeee1e9-0b01-4156-9680-08fd3cddedbe",
   "metadata": {},
   "outputs": [
    {
     "data": {
      "text/plain": [
       "33"
      ]
     },
     "execution_count": 26,
     "metadata": {},
     "output_type": "execute_result"
    }
   ],
   "source": [
    "len(landmarks)"
   ]
  },
  {
   "cell_type": "code",
   "execution_count": 28,
   "id": "52952fa9-28d3-46dd-8967-807f86718921",
   "metadata": {},
   "outputs": [
    {
     "data": {
      "text/plain": [
       "0.9991966485977173"
      ]
     },
     "execution_count": 28,
     "metadata": {},
     "output_type": "execute_result"
    }
   ],
   "source": [
    "landmarks[mp_pose.PoseLandmark.LEFT_SHOULDER.value].visibility"
   ]
  },
  {
   "cell_type": "code",
   "execution_count": 29,
   "id": "e8322715-4189-4983-b3a8-be2a58a97d92",
   "metadata": {},
   "outputs": [
    {
     "data": {
      "text/plain": [
       "x: 0.975214183\n",
       "y: 0.933045\n",
       "z: -0.601204455\n",
       "visibility: 0.796071529"
      ]
     },
     "execution_count": 29,
     "metadata": {},
     "output_type": "execute_result"
    }
   ],
   "source": [
    "landmarks[mp_pose.PoseLandmark.LEFT_ELBOW.value]"
   ]
  },
  {
   "cell_type": "code",
   "execution_count": 30,
   "id": "c485ed5c-f181-45dc-bf05-1b7a560f3bca",
   "metadata": {},
   "outputs": [
    {
     "data": {
      "text/plain": [
       "x: 1.02941298\n",
       "y: 1.30846226\n",
       "z: -1.00210083\n",
       "visibility: 0.168438777"
      ]
     },
     "execution_count": 30,
     "metadata": {},
     "output_type": "execute_result"
    }
   ],
   "source": [
    "landmarks[mp_pose.PoseLandmark.LEFT_WRIST.value]"
   ]
  },
  {
   "cell_type": "code",
   "execution_count": 4,
   "id": "0912651a-647b-45da-97de-76711e285e95",
   "metadata": {},
   "outputs": [],
   "source": [
    "def calculate_angle(a,b,c):\n",
    "    a = np.array(a) # First\n",
    "    b = np.array(b) # Mid\n",
    "    c = np.array(c) # End\n",
    "    \n",
    "    radians = np.arctan2(c[1]-b[1], c[0]-b[0]) - np.arctan2(a[1]-b[1], a[0]-b[0])\n",
    "    angle = np.abs(radians*180.0/np.pi)\n",
    "    \n",
    "    if angle >180.0:\n",
    "        angle = 360-angle\n",
    "        \n",
    "    return angle "
   ]
  },
  {
   "cell_type": "code",
   "execution_count": 40,
   "id": "3b1e7ed0-2c25-4bed-846d-6e03ea148ea4",
   "metadata": {},
   "outputs": [],
   "source": [
    "\n",
    "shoulder = [landmarks[mp_pose.PoseLandmark.LEFT_SHOULDER.value].x,landmarks[mp_pose.PoseLandmark.LEFT_SHOULDER.value].y]\n",
    "elbow = [landmarks[mp_pose.PoseLandmark.LEFT_ELBOW.value].x,landmarks[mp_pose.PoseLandmark.LEFT_ELBOW.value].y]\n",
    "wrist = [landmarks[mp_pose.PoseLandmark.LEFT_WRIST.value].x,landmarks[mp_pose.PoseLandmark.LEFT_WRIST.value].y]"
   ]
  },
  {
   "cell_type": "code",
   "execution_count": 43,
   "id": "03115f12-afa7-4b13-88cb-669daac834c2",
   "metadata": {},
   "outputs": [
    {
     "data": {
      "text/plain": [
       "([0.8236469030380249, 0.5893240571022034],\n",
       " [0.9752141833305359, 0.9330450296401978],\n",
       " [1.0294129848480225, 1.3084622621536255])"
      ]
     },
     "execution_count": 43,
     "metadata": {},
     "output_type": "execute_result"
    }
   ],
   "source": [
    "shoulder, elbow, wrist"
   ]
  },
  {
   "cell_type": "code",
   "execution_count": 44,
   "id": "2b5161a0-587e-4cc9-a333-ee96a2968d16",
   "metadata": {},
   "outputs": [
    {
     "data": {
      "text/plain": [
       "np.float64(164.41943169188008)"
      ]
     },
     "execution_count": 44,
     "metadata": {},
     "output_type": "execute_result"
    }
   ],
   "source": [
    "calculate_angle(shoulder, elbow, wrist)"
   ]
  },
  {
   "cell_type": "code",
   "execution_count": 45,
   "id": "e761af95-6a83-4bb2-a66a-da78e6343cca",
   "metadata": {},
   "outputs": [],
   "source": [
    "\n",
    "hip = [landmarks[mp_pose.PoseLandmark.LEFT_HIP.value].x,landmarks[mp_pose.PoseLandmark.LEFT_HIP.value].y]\n",
    "shoulder = [landmarks[mp_pose.PoseLandmark.LEFT_SHOULDER.value].x,landmarks[mp_pose.PoseLandmark.LEFT_SHOULDER.value].y]\n",
    "elbow = [landmarks[mp_pose.PoseLandmark.LEFT_ELBOW.value].x,landmarks[mp_pose.PoseLandmark.LEFT_ELBOW.value].y]"
   ]
  },
  {
   "cell_type": "code",
   "execution_count": 47,
   "id": "d37dcd67-8c0f-4385-9628-c42dcf2947a2",
   "metadata": {},
   "outputs": [
    {
     "data": {
      "text/plain": [
       "np.float64(30.62799415237934)"
      ]
     },
     "execution_count": 47,
     "metadata": {},
     "output_type": "execute_result"
    }
   ],
   "source": [
    "calculate_angle(hip, shoulder, elbow)"
   ]
  },
  {
   "cell_type": "code",
   "execution_count": 5,
   "id": "3ffe9f47",
   "metadata": {},
   "outputs": [
    {
     "name": "stderr",
     "output_type": "stream",
     "text": [
      "C:\\Users\\Shikha Gupta\\AppData\\Roaming\\Python\\Python312\\site-packages\\google\\protobuf\\symbol_database.py:55: UserWarning: SymbolDatabase.GetPrototype() is deprecated. Please use message_factory.GetMessageClass() instead. SymbolDatabase.GetPrototype() will be removed soon.\n",
      "  warnings.warn('SymbolDatabase.GetPrototype() is deprecated. Please '\n"
     ]
    },
    {
     "name": "stdout",
     "output_type": "stream",
     "text": [
      "1\n",
      "2\n",
      "3\n",
      "4\n",
      "5\n",
      "6\n"
     ]
    }
   ],
   "source": [
    "cap = cv2.VideoCapture(0)\n",
    "\n",
    "# Curl counter variables\n",
    "counter = 0\n",
    "stage = None\n",
    "\n",
    "## Setup mediapipe instance\n",
    "with mp_pose.Pose(min_detection_confidence=0.5, min_tracking_confidence=0.5) as pose:\n",
    "    while cap.isOpened():\n",
    "        ret, frame = cap.read()\n",
    "        \n",
    "        # Recolor image to RGB\n",
    "        image = cv2.cvtColor(frame, cv2.COLOR_BGR2RGB)\n",
    "        image.flags.writeable = False\n",
    "      \n",
    "        # Make detection\n",
    "        results = pose.process(image)\n",
    "    \n",
    "        # Recolour back to BGR\n",
    "        image.flags.writeable = True\n",
    "        image = cv2.cvtColor(image, cv2.COLOR_RGB2BGR)\n",
    "        \n",
    "        # Extract landmarks\n",
    "        try:\n",
    "            landmarks = results.pose_landmarks.landmark\n",
    "            \n",
    "            # Get coordinates\n",
    "            shoulder = [landmarks[mp_pose.PoseLandmark.LEFT_SHOULDER.value].x,landmarks[mp_pose.PoseLandmark.LEFT_SHOULDER.value].y]\n",
    "            elbow = [landmarks[mp_pose.PoseLandmark.LEFT_ELBOW.value].x,landmarks[mp_pose.PoseLandmark.LEFT_ELBOW.value].y]\n",
    "            wrist = [landmarks[mp_pose.PoseLandmark.LEFT_WRIST.value].x,landmarks[mp_pose.PoseLandmark.LEFT_WRIST.value].y]\n",
    "            \n",
    "            # Calculate angle\n",
    "            angle = calculate_angle(shoulder, elbow, wrist)\n",
    "            \n",
    "            # Visualize angle\n",
    "\n",
    "            cv2.putText(image, str(angle), \n",
    "                           tuple(np.multiply(elbow, [640, 480]).astype(int)), \n",
    "                           cv2.FONT_HERSHEY_SIMPLEX, 0.5, (255, 255, 255), 2, cv2.LINE_AA\n",
    "                        )\n",
    "\n",
    "            # Curl Counter\n",
    "            if angle > 160:\n",
    "                stage = \"down\"\n",
    "            if angle < 30 and stage == 'down':\n",
    "                stage = \"up\"\n",
    "                counter+=1\n",
    "                print(counter)\n",
    "                \n",
    "        except:\n",
    "            pass\n",
    "\n",
    "        # Render curl counter\n",
    "        # Setup status box\n",
    "        # cv2.rectangle(image, (0,0), (400, 93), \n",
    "        cv2.rectangle(image,(0,0), (380,73), (245,117,16),-1)\n",
    "\n",
    "        #Rep data\n",
    "        \n",
    "        cv2.putText(image, 'REPS', (15,12),\n",
    "                    cv2.FONT_HERSHEY_SIMPLEX, 0.5, (255,255,255),1, cv2.LINE_AA)\n",
    "        cv2.putText(image, str(counter),\n",
    "                    (15,55),\n",
    "                    cv2.FONT_HERSHEY_SIMPLEX, 2, (0,0,0), 2, cv2.LINE_AA)\n",
    "        \n",
    "        #Stage data\n",
    "        cv2.putText(image, 'STAGE', (65,12),\n",
    "                    cv2.FONT_HERSHEY_SIMPLEX, 0.5, (255,255,255),1, cv2.LINE_AA)\n",
    "        cv2.putText(image, stage,\n",
    "                    (100,60),\n",
    "                    cv2.FONT_HERSHEY_SIMPLEX, 2, (0,0,0), 2, cv2.LINE_AA)\n",
    "        \n",
    "        \n",
    "        # Render detections\n",
    "        mp_drawing.draw_landmarks(image, results.pose_landmarks, mp_pose.POSE_CONNECTIONS,\n",
    "                                mp_drawing.DrawingSpec(color=(245,117,66), thickness=2, circle_radius=2), \n",
    "                                mp_drawing.DrawingSpec(color=(245,66,230), thickness=2, circle_radius=2) \n",
    "                                 )               \n",
    "        \n",
    "        cv2.imshow('Mediapipe Feed', image)\n",
    "\n",
    "        if cv2.waitKey(10) & 0xFF == ord('q'):\n",
    "            break\n",
    "\n",
    "    cap.release()\n",
    "    cv2.destroyAllWindows()"
   ]
  },
  {
   "cell_type": "code",
   "execution_count": null,
   "id": "51c71c64-39b8-4be6-9807-f3b16c89ec74",
   "metadata": {},
   "outputs": [],
   "source": []
  }
 ],
 "metadata": {
  "kernelspec": {
   "display_name": "Python 3.12",
   "language": "python",
   "name": "python312"
  },
  "language_info": {
   "codemirror_mode": {
    "name": "ipython",
    "version": 3
   },
   "file_extension": ".py",
   "mimetype": "text/x-python",
   "name": "python",
   "nbconvert_exporter": "python",
   "pygments_lexer": "ipython3",
   "version": "3.12.2"
  }
 },
 "nbformat": 4,
 "nbformat_minor": 5
}
